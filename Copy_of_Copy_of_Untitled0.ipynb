{
  "nbformat": 4,
  "nbformat_minor": 0,
  "metadata": {
    "colab": {
      "name": "Copy of Copy of Untitled0.ipynb",
      "provenance": [],
      "collapsed_sections": [],
      "authorship_tag": "ABX9TyPpwcBKp5yCXsEXGHA0lvGp",
      "include_colab_link": true
    },
    "kernelspec": {
      "name": "python3",
      "display_name": "Python 3"
    }
  },
  "cells": [
    {
      "cell_type": "markdown",
      "metadata": {
        "id": "view-in-github",
        "colab_type": "text"
      },
      "source": [
        "<a href=\"https://colab.research.google.com/github/19PA1A0496/python-basics/blob/master/Copy_of_Copy_of_Untitled0.ipynb\" target=\"_parent\"><img src=\"https://colab.research.google.com/assets/colab-badge.svg\" alt=\"Open In Colab\"/></a>"
      ]
    },
    {
      "cell_type": "markdown",
      "metadata": {
        "id": "oLSa7idnTTtX",
        "colab_type": "text"
      },
      "source": [
        "**INTRODUCTION: \n",
        "THIS DATASET REPRESENTS ABOUT THE CRIME SEEN VANCOUVER(CANADA) FROM 2003-2017.\n",
        "THIS DATA COMES FROM THE VANCOUVER OPEN DATA CATALOGUE.\n",
        "IT WAS EXTRACTED ON  2017.THE DATA SET CONTAINS 12COLUMNS.THIS DATA ALSO DESCRIBES ABOUT THE COORDINATES OF THE LONGITUDE AND LATITUDE OF THE LOCATION.THIS DATA SET CONTAINS SOME MISSING VALUES AND nAN VALUES ACCORDING TO THE GIVEN INSTRUCTIONS.\n",
        "\n",
        "*   DESCRIBE LENGTH OF THE DATA?\n",
        "\n",
        "*   DESCRIBE THE TYPE OF CRIMES IN VANCOUVER? \n",
        "\n",
        "*   APPLY THE HEAD OPERATION FOR THE DATASET?\n",
        "*   FIND OUT THE STANDARD DEVIATION OF GIVEN DATASET?\n",
        "\n",
        "\n",
        "*   PLOT THE BARGRAPH BETWEEN CRIMES AND CRIMINALS?\n",
        "\n",
        "\n",
        "*   FIND OUT THE LOCATION WHERE MORE CRIMES TAKES PLACE AND PLOT TEHE GRAPH?\n",
        "\n",
        "\n",
        "* IN WHICH MONTH MORE CRIMES TAKES PLACE?  \n",
        "\n",
        "* PLOT THE SCATTER BETWEEN MONTH AND HOUR?  \n",
        "*   IN WHICH YEAR MAXIMUM AND MINIMUM CRIMES WERE HAPPEN?\n",
        "\n",
        "*   COMPUTE ALL THE STATISTICS FOR THE GIVEN DATASET?\n",
        "\n",
        "*   FIND OUT THE MEDIAN OF THE DATASET?\n",
        "*  FIND THE CUMULATIVE SUM OF THE DAYS?\n",
        "\n",
        "\n",
        "\n",
        "\n",
        "\n",
        "\n",
        "\n"
      ]
    },
    {
      "cell_type": "markdown",
      "metadata": {
        "id": "4-MPYdmAcsF3",
        "colab_type": "text"
      },
      "source": [
        "LENGTH OF DATASET"
      ]
    },
    {
      "cell_type": "code",
      "metadata": {
        "id": "-Phg-sebRzDY",
        "colab_type": "code",
        "outputId": "3db0f8c3-f047-4348-b55b-dcc2605287c6",
        "colab": {
          "base_uri": "https://localhost:8080/",
          "height": 34
        }
      },
      "source": [
        "import numpy as np\n",
        "import pandas as pd\n",
        "\n",
        "crime=pd.read_csv('crime.csv')\n",
        "len(crime)\n"
      ],
      "execution_count": 0,
      "outputs": [
        {
          "output_type": "execute_result",
          "data": {
            "text/plain": [
              "254422"
            ]
          },
          "metadata": {
            "tags": []
          },
          "execution_count": 2
        }
      ]
    },
    {
      "cell_type": "markdown",
      "metadata": {
        "id": "6ZLx1gmzc5q3",
        "colab_type": "text"
      },
      "source": [
        "TYPES OF CRIMES"
      ]
    },
    {
      "cell_type": "code",
      "metadata": {
        "id": "hwfqCgMDUGh0",
        "colab_type": "code",
        "outputId": "be01a304-219c-4708-c4ca-5446b2fb2c4d",
        "colab": {
          "base_uri": "https://localhost:8080/",
          "height": 221
        }
      },
      "source": [
        "crime['TYPE'].value_counts()\n"
      ],
      "execution_count": 0,
      "outputs": [
        {
          "output_type": "execute_result",
          "data": {
            "text/plain": [
              "Theft from Vehicle                                        89538\n",
              "Break and Enter Residential/Other                         33479\n",
              "Mischief                                                  31718\n",
              "Theft of Vehicle                                          26737\n",
              "Offence Against a Person                                  23348\n",
              "Break and Enter Commercial                                16623\n",
              "Other Theft                                               16555\n",
              "Vehicle Collision or Pedestrian Struck (with Injury)       8276\n",
              "Theft of Bicycle                                           7910\n",
              "Vehicle Collision or Pedestrian Struck (with Fatality)      122\n",
              "Homicide                                                    116\n",
              "Name: TYPE, dtype: int64"
            ]
          },
          "metadata": {
            "tags": []
          },
          "execution_count": 4
        }
      ]
    },
    {
      "cell_type": "markdown",
      "metadata": {
        "id": "6uB_0AfvdKJc",
        "colab_type": "text"
      },
      "source": [
        "HEAD OF THE DATASET"
      ]
    },
    {
      "cell_type": "code",
      "metadata": {
        "id": "UXphx0x9U57m",
        "colab_type": "code",
        "outputId": "1b0399ee-5764-4063-8aad-a1a678f5f321",
        "colab": {
          "base_uri": "https://localhost:8080/",
          "height": 289
        }
      },
      "source": [
        "crime.head()"
      ],
      "execution_count": 0,
      "outputs": [
        {
          "output_type": "execute_result",
          "data": {
            "text/html": [
              "<div>\n",
              "<style scoped>\n",
              "    .dataframe tbody tr th:only-of-type {\n",
              "        vertical-align: middle;\n",
              "    }\n",
              "\n",
              "    .dataframe tbody tr th {\n",
              "        vertical-align: top;\n",
              "    }\n",
              "\n",
              "    .dataframe thead th {\n",
              "        text-align: right;\n",
              "    }\n",
              "</style>\n",
              "<table border=\"1\" class=\"dataframe\">\n",
              "  <thead>\n",
              "    <tr style=\"text-align: right;\">\n",
              "      <th></th>\n",
              "      <th>TYPE</th>\n",
              "      <th>YEAR</th>\n",
              "      <th>MONTH</th>\n",
              "      <th>DAY</th>\n",
              "      <th>HOUR</th>\n",
              "      <th>MINUTE</th>\n",
              "      <th>HUNDRED_BLOCK</th>\n",
              "      <th>NEIGHBOURHOOD</th>\n",
              "      <th>X</th>\n",
              "      <th>Y</th>\n",
              "      <th>Latitude</th>\n",
              "      <th>Longitude</th>\n",
              "    </tr>\n",
              "  </thead>\n",
              "  <tbody>\n",
              "    <tr>\n",
              "      <th>0</th>\n",
              "      <td>Other Theft</td>\n",
              "      <td>2003</td>\n",
              "      <td>5</td>\n",
              "      <td>12</td>\n",
              "      <td>16.0</td>\n",
              "      <td>15.0</td>\n",
              "      <td>9XX TERMINAL AVE</td>\n",
              "      <td>Strathcona</td>\n",
              "      <td>493906.5</td>\n",
              "      <td>5457452.47</td>\n",
              "      <td>49.269802</td>\n",
              "      <td>-123.083763</td>\n",
              "    </tr>\n",
              "    <tr>\n",
              "      <th>1</th>\n",
              "      <td>Other Theft</td>\n",
              "      <td>2003</td>\n",
              "      <td>5</td>\n",
              "      <td>7</td>\n",
              "      <td>15.0</td>\n",
              "      <td>20.0</td>\n",
              "      <td>9XX TERMINAL AVE</td>\n",
              "      <td>Strathcona</td>\n",
              "      <td>493906.5</td>\n",
              "      <td>5457452.47</td>\n",
              "      <td>49.269802</td>\n",
              "      <td>-123.083763</td>\n",
              "    </tr>\n",
              "    <tr>\n",
              "      <th>2</th>\n",
              "      <td>Other Theft</td>\n",
              "      <td>2003</td>\n",
              "      <td>4</td>\n",
              "      <td>23</td>\n",
              "      <td>16.0</td>\n",
              "      <td>40.0</td>\n",
              "      <td>9XX TERMINAL AVE</td>\n",
              "      <td>Strathcona</td>\n",
              "      <td>493906.5</td>\n",
              "      <td>5457452.47</td>\n",
              "      <td>49.269802</td>\n",
              "      <td>-123.083763</td>\n",
              "    </tr>\n",
              "    <tr>\n",
              "      <th>3</th>\n",
              "      <td>Other Theft</td>\n",
              "      <td>2003</td>\n",
              "      <td>4</td>\n",
              "      <td>20</td>\n",
              "      <td>11.0</td>\n",
              "      <td>15.0</td>\n",
              "      <td>9XX TERMINAL AVE</td>\n",
              "      <td>Strathcona</td>\n",
              "      <td>493906.5</td>\n",
              "      <td>5457452.47</td>\n",
              "      <td>49.269802</td>\n",
              "      <td>-123.083763</td>\n",
              "    </tr>\n",
              "    <tr>\n",
              "      <th>4</th>\n",
              "      <td>Other Theft</td>\n",
              "      <td>2003</td>\n",
              "      <td>4</td>\n",
              "      <td>12</td>\n",
              "      <td>17.0</td>\n",
              "      <td>45.0</td>\n",
              "      <td>9XX TERMINAL AVE</td>\n",
              "      <td>Strathcona</td>\n",
              "      <td>493906.5</td>\n",
              "      <td>5457452.47</td>\n",
              "      <td>49.269802</td>\n",
              "      <td>-123.083763</td>\n",
              "    </tr>\n",
              "  </tbody>\n",
              "</table>\n",
              "</div>"
            ],
            "text/plain": [
              "          TYPE  YEAR  MONTH  DAY  ...         X           Y   Latitude   Longitude\n",
              "0  Other Theft  2003      5   12  ...  493906.5  5457452.47  49.269802 -123.083763\n",
              "1  Other Theft  2003      5    7  ...  493906.5  5457452.47  49.269802 -123.083763\n",
              "2  Other Theft  2003      4   23  ...  493906.5  5457452.47  49.269802 -123.083763\n",
              "3  Other Theft  2003      4   20  ...  493906.5  5457452.47  49.269802 -123.083763\n",
              "4  Other Theft  2003      4   12  ...  493906.5  5457452.47  49.269802 -123.083763\n",
              "\n",
              "[5 rows x 12 columns]"
            ]
          },
          "metadata": {
            "tags": []
          },
          "execution_count": 6
        }
      ]
    },
    {
      "cell_type": "markdown",
      "metadata": {
        "id": "UeEADBokdTaB",
        "colab_type": "text"
      },
      "source": [
        "STANDARD DEVIATION OF DATASET"
      ]
    },
    {
      "cell_type": "code",
      "metadata": {
        "id": "y4hz3-ggVSx3",
        "colab_type": "code",
        "outputId": "58cbc918-93b1-40f2-b9c7-35e45cbf979a",
        "colab": {
          "base_uri": "https://localhost:8080/",
          "height": 187
        }
      },
      "source": [
        "crime.std()"
      ],
      "execution_count": 0,
      "outputs": [
        {
          "output_type": "execute_result",
          "data": {
            "text/plain": [
              "YEAR         1.661888e+00\n",
              "MONTH        3.421078e+00\n",
              "DAY          8.753217e+00\n",
              "HOUR         6.898572e+00\n",
              "MINUTE       1.802406e+01\n",
              "X            1.424454e+05\n",
              "Y            1.578834e+06\n",
              "Latitude     1.425369e+01\n",
              "Longitude    3.562027e+01\n",
              "dtype: float64"
            ]
          },
          "metadata": {
            "tags": []
          },
          "execution_count": 7
        }
      ]
    },
    {
      "cell_type": "markdown",
      "metadata": {
        "id": "Tnark7U6dobZ",
        "colab_type": "text"
      },
      "source": [
        "BARGRAPH BETWEEN CRIMES AND CRIMINALS"
      ]
    },
    {
      "cell_type": "code",
      "metadata": {
        "id": "ZzVZI3HAVkcn",
        "colab_type": "code",
        "outputId": "7b47d832-5307-4d2d-a0d8-4364112d6223",
        "colab": {
          "base_uri": "https://localhost:8080/",
          "height": 531
        }
      },
      "source": [
        "alpha_colour=0.5\n",
        "crime['TYPE'].value_counts().plot(kind='bar')"
      ],
      "execution_count": 0,
      "outputs": [
        {
          "output_type": "execute_result",
          "data": {
            "text/plain": [
              "<matplotlib.axes._subplots.AxesSubplot at 0x7f9189a7f828>"
            ]
          },
          "metadata": {
            "tags": []
          },
          "execution_count": 8
        },
        {
          "output_type": "display_data",
          "data": {
            "image/png": "[encoded data removed]",
            "text/plain": [
              "<Figure size 432x288 with 1 Axes>"
            ]
          },
          "metadata": {
            "tags": []
          }
        }
      ]
    },
    {
      "cell_type": "markdown",
      "metadata": {
        "id": "VqLpMnP9eHu3",
        "colab_type": "text"
      },
      "source": [
        "PLACE OF THE CRIMES"
      ]
    },
    {
      "cell_type": "code",
      "metadata": {
        "id": "qitn4tH1Wik8",
        "colab_type": "code",
        "outputId": "a789aeea-04bb-4281-db2f-4e955bba9fc3",
        "colab": {
          "base_uri": "https://localhost:8080/",
          "height": 404
        }
      },
      "source": [
        "crime['NEIGHBOURHOOD'].value_counts().plot(kind='bar',color=['b','r'],alpha=alpha_colour)"
      ],
      "execution_count": 0,
      "outputs": [
        {
          "output_type": "execute_result",
          "data": {
            "text/plain": [
              "<matplotlib.axes._subplots.AxesSubplot at 0x7f9189495a20>"
            ]
          },
          "metadata": {
            "tags": []
          },
          "execution_count": 10
        },
        {
          "output_type": "display_data",
          "data": {
            "image/png": "[encoded data removed]",
            "text/plain": [
              "<Figure size 432x288 with 1 Axes>"
            ]
          },
          "metadata": {
            "tags": []
          }
        }
      ]
    },
    {
      "cell_type": "markdown",
      "metadata": {
        "id": "FA94fzvOeWtI",
        "colab_type": "text"
      },
      "source": [
        "MONTH OF THE CRIMES"
      ]
    },
    {
      "cell_type": "code",
      "metadata": {
        "id": "MM1mdrWyXYj7",
        "colab_type": "code",
        "outputId": "8194e6cc-ba76-41cc-eef7-48d648322973",
        "colab": {
          "base_uri": "https://localhost:8080/",
          "height": 285
        }
      },
      "source": [
        "crime['MONTH'].value_counts().sort_index().plot(kind='bar',alpha=alpha_colour)"
      ],
      "execution_count": 0,
      "outputs": [
        {
          "output_type": "execute_result",
          "data": {
            "text/plain": [
              "<matplotlib.axes._subplots.AxesSubplot at 0x7f91893cb438>"
            ]
          },
          "metadata": {
            "tags": []
          },
          "execution_count": 12
        },
        {
          "output_type": "display_data",
          "data": {
            "image/png": "[encoded data removed]",
            "text/plain": [
              "<Figure size 432x288 with 1 Axes>"
            ]
          },
          "metadata": {
            "tags": []
          }
        }
      ]
    },
    {
      "cell_type": "markdown",
      "metadata": {
        "id": "bp_bhcL2ebzT",
        "colab_type": "text"
      },
      "source": [
        "SCATTER BETWEEN MONTH AND HOUR"
      ]
    },
    {
      "cell_type": "code",
      "metadata": {
        "id": "eeuOrqYlYjFu",
        "colab_type": "code",
        "outputId": "6c106d29-f7fe-4312-ebba-b49e7de3aa21",
        "colab": {
          "base_uri": "https://localhost:8080/",
          "height": 296
        }
      },
      "source": [
        "crime.plot(kind='scatter',x='MONTH',y='HOUR')"
      ],
      "execution_count": 0,
      "outputs": [
        {
          "output_type": "execute_result",
          "data": {
            "text/plain": [
              "<matplotlib.axes._subplots.AxesSubplot at 0x7f9189305828>"
            ]
          },
          "metadata": {
            "tags": []
          },
          "execution_count": 14
        },
        {
          "output_type": "display_data",
          "data": {
            "image/png": "[encoded data removed]",
            "text/plain": [
              "<Figure size 432x288 with 1 Axes>"
            ]
          },
          "metadata": {
            "tags": []
          }
        }
      ]
    },
    {
      "cell_type": "markdown",
      "metadata": {
        "id": "DEkww2_oenT1",
        "colab_type": "text"
      },
      "source": [
        "MINIMUM AND MAXIMUM YEARS OF CRIME"
      ]
    },
    {
      "cell_type": "code",
      "metadata": {
        "id": "Y5u5EPfnZlM3",
        "colab_type": "code",
        "outputId": "01b23dea-3a40-416c-c3c9-d7dc1295232a",
        "colab": {
          "base_uri": "https://localhost:8080/",
          "height": 34
        }
      },
      "source": [
        "crime['YEAR'].min(),crime['YEAR'].max()"
      ],
      "execution_count": 0,
      "outputs": [
        {
          "output_type": "execute_result",
          "data": {
            "text/plain": [
              "(2003, 2008)"
            ]
          },
          "metadata": {
            "tags": []
          },
          "execution_count": 16
        }
      ]
    },
    {
      "cell_type": "markdown",
      "metadata": {
        "id": "mXa3gFwleznT",
        "colab_type": "text"
      },
      "source": [
        "COMPUTING THE VALUES OF DATASET"
      ]
    },
    {
      "cell_type": "code",
      "metadata": {
        "id": "YX_C5xpEaQE2",
        "colab_type": "code",
        "outputId": "1a7ea87e-90eb-494d-d65a-1bdce0bb0a15",
        "colab": {
          "base_uri": "https://localhost:8080/",
          "height": 317
        }
      },
      "source": [
        "crime.describe()"
      ],
      "execution_count": 0,
      "outputs": [
        {
          "output_type": "execute_result",
          "data": {
            "text/html": [
              "<div>\n",
              "<style scoped>\n",
              "    .dataframe tbody tr th:only-of-type {\n",
              "        vertical-align: middle;\n",
              "    }\n",
              "\n",
              "    .dataframe tbody tr th {\n",
              "        vertical-align: top;\n",
              "    }\n",
              "\n",
              "    .dataframe thead th {\n",
              "        text-align: right;\n",
              "    }\n",
              "</style>\n",
              "<table border=\"1\" class=\"dataframe\">\n",
              "  <thead>\n",
              "    <tr style=\"text-align: right;\">\n",
              "      <th></th>\n",
              "      <th>YEAR</th>\n",
              "      <th>MONTH</th>\n",
              "      <th>DAY</th>\n",
              "      <th>HOUR</th>\n",
              "      <th>MINUTE</th>\n",
              "      <th>X</th>\n",
              "      <th>Y</th>\n",
              "      <th>Latitude</th>\n",
              "      <th>Longitude</th>\n",
              "    </tr>\n",
              "  </thead>\n",
              "  <tbody>\n",
              "    <tr>\n",
              "      <th>count</th>\n",
              "      <td>254422.000000</td>\n",
              "      <td>254422.000000</td>\n",
              "      <td>254422.000000</td>\n",
              "      <td>230958.000000</td>\n",
              "      <td>230958.000000</td>\n",
              "      <td>254422.000000</td>\n",
              "      <td>2.544220e+05</td>\n",
              "      <td>254422.000000</td>\n",
              "      <td>254421.000000</td>\n",
              "    </tr>\n",
              "    <tr>\n",
              "      <th>mean</th>\n",
              "      <td>2005.236544</td>\n",
              "      <td>6.494560</td>\n",
              "      <td>15.422750</td>\n",
              "      <td>13.751297</td>\n",
              "      <td>15.819617</td>\n",
              "      <td>446825.770964</td>\n",
              "      <td>4.953369e+06</td>\n",
              "      <td>44.718942</td>\n",
              "      <td>-111.753376</td>\n",
              "    </tr>\n",
              "    <tr>\n",
              "      <th>std</th>\n",
              "      <td>1.661888</td>\n",
              "      <td>3.421078</td>\n",
              "      <td>8.753217</td>\n",
              "      <td>6.898572</td>\n",
              "      <td>18.024063</td>\n",
              "      <td>142445.446006</td>\n",
              "      <td>1.578834e+06</td>\n",
              "      <td>14.253693</td>\n",
              "      <td>35.620269</td>\n",
              "    </tr>\n",
              "    <tr>\n",
              "      <th>min</th>\n",
              "      <td>2003.000000</td>\n",
              "      <td>1.000000</td>\n",
              "      <td>1.000000</td>\n",
              "      <td>0.000000</td>\n",
              "      <td>0.000000</td>\n",
              "      <td>0.000000</td>\n",
              "      <td>0.000000e+00</td>\n",
              "      <td>0.000000</td>\n",
              "      <td>-123.221457</td>\n",
              "    </tr>\n",
              "    <tr>\n",
              "      <th>25%</th>\n",
              "      <td>2004.000000</td>\n",
              "      <td>4.000000</td>\n",
              "      <td>8.000000</td>\n",
              "      <td>9.000000</td>\n",
              "      <td>0.000000</td>\n",
              "      <td>489977.932500</td>\n",
              "      <td>5.453669e+06</td>\n",
              "      <td>49.235756</td>\n",
              "      <td>-123.128273</td>\n",
              "    </tr>\n",
              "    <tr>\n",
              "      <th>50%</th>\n",
              "      <td>2005.000000</td>\n",
              "      <td>7.000000</td>\n",
              "      <td>15.000000</td>\n",
              "      <td>15.000000</td>\n",
              "      <td>5.000000</td>\n",
              "      <td>491449.680000</td>\n",
              "      <td>5.456837e+06</td>\n",
              "      <td>49.264220</td>\n",
              "      <td>-123.107678</td>\n",
              "    </tr>\n",
              "    <tr>\n",
              "      <th>75%</th>\n",
              "      <td>2007.000000</td>\n",
              "      <td>9.000000</td>\n",
              "      <td>23.000000</td>\n",
              "      <td>19.000000</td>\n",
              "      <td>30.000000</td>\n",
              "      <td>493748.287500</td>\n",
              "      <td>5.458623e+06</td>\n",
              "      <td>49.280318</td>\n",
              "      <td>-123.066718</td>\n",
              "    </tr>\n",
              "    <tr>\n",
              "      <th>max</th>\n",
              "      <td>2008.000000</td>\n",
              "      <td>12.000000</td>\n",
              "      <td>31.000000</td>\n",
              "      <td>23.000000</td>\n",
              "      <td>59.000000</td>\n",
              "      <td>511303.000000</td>\n",
              "      <td>5.462267e+06</td>\n",
              "      <td>49.313054</td>\n",
              "      <td>0.000000</td>\n",
              "    </tr>\n",
              "  </tbody>\n",
              "</table>\n",
              "</div>"
            ],
            "text/plain": [
              "                YEAR          MONTH  ...       Latitude      Longitude\n",
              "count  254422.000000  254422.000000  ...  254422.000000  254421.000000\n",
              "mean     2005.236544       6.494560  ...      44.718942    -111.753376\n",
              "std         1.661888       3.421078  ...      14.253693      35.620269\n",
              "min      2003.000000       1.000000  ...       0.000000    -123.221457\n",
              "25%      2004.000000       4.000000  ...      49.235756    -123.128273\n",
              "50%      2005.000000       7.000000  ...      49.264220    -123.107678\n",
              "75%      2007.000000       9.000000  ...      49.280318    -123.066718\n",
              "max      2008.000000      12.000000  ...      49.313054       0.000000\n",
              "\n",
              "[8 rows x 9 columns]"
            ]
          },
          "metadata": {
            "tags": []
          },
          "execution_count": 17
        }
      ]
    },
    {
      "cell_type": "markdown",
      "metadata": {
        "id": "gBomtjDefDmD",
        "colab_type": "text"
      },
      "source": [
        "MEDIAN OF DATASET"
      ]
    },
    {
      "cell_type": "code",
      "metadata": {
        "id": "6HGeq5AwadOy",
        "colab_type": "code",
        "outputId": "8c6181f2-7d9f-4e3b-a131-7efade252845",
        "colab": {
          "base_uri": "https://localhost:8080/",
          "height": 187
        }
      },
      "source": [
        "crime.median()"
      ],
      "execution_count": 0,
      "outputs": [
        {
          "output_type": "execute_result",
          "data": {
            "text/plain": [
              "YEAR         2.005000e+03\n",
              "MONTH        7.000000e+00\n",
              "DAY          1.500000e+01\n",
              "HOUR         1.500000e+01\n",
              "MINUTE       5.000000e+00\n",
              "X            4.914497e+05\n",
              "Y            5.456837e+06\n",
              "Latitude     4.926422e+01\n",
              "Longitude   -1.231077e+02\n",
              "dtype: float64"
            ]
          },
          "metadata": {
            "tags": []
          },
          "execution_count": 18
        }
      ]
    },
    {
      "cell_type": "markdown",
      "metadata": {
        "id": "IgCOiZSPfH57",
        "colab_type": "text"
      },
      "source": [
        "CUMULATIVE SUM OF DAYS"
      ]
    },
    {
      "cell_type": "code",
      "metadata": {
        "id": "475UXjpdbeE1",
        "colab_type": "code",
        "outputId": "74f64a09-4b34-4506-fc54-6ee4f5e43491",
        "colab": {
          "base_uri": "https://localhost:8080/",
          "height": 221
        }
      },
      "source": [
        "crime['DAY'].cumsum()"
      ],
      "execution_count": 0,
      "outputs": [
        {
          "output_type": "execute_result",
          "data": {
            "text/plain": [
              "0              12\n",
              "1              19\n",
              "2              42\n",
              "3              62\n",
              "4              74\n",
              "           ...   \n",
              "254417    3923836\n",
              "254418    3923861\n",
              "254419    3923873\n",
              "254420    3923874\n",
              "254421    3923887\n",
              "Name: DAY, Length: 254422, dtype: int64"
            ]
          },
          "metadata": {
            "tags": []
          },
          "execution_count": 22
        }
      ]
    },
    {
      "cell_type": "markdown",
      "metadata": {
        "id": "aIQEBHf_YtiX",
        "colab_type": "text"
      },
      "source": [
        "**CONCLUSION**\n",
        "\n",
        "\n",
        "*   BY USING THIS DATASET WE WILL GET THE IDEA ON CRIMES AND WE CAN PREDICT THE CRIMINAL PSYCOLOGY ,THEN WE CAN STOP THEM EASILY FROM THIS ILLEGAL ACTIVITIES.BY HAVING SUCH AN IDEA ON THIS DATASET WILL HELP US  IN ANY ASPECTS AND WE CAN HANDLE THE CRIME DATA.\n",
        "\n",
        "* THIS TYPE OF ANALYSING OF DATA WILL HELP THE SOCIETY ALOT"
      ]
    }
  ]
}