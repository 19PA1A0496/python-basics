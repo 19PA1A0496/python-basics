{
  "nbformat": 4,
  "nbformat_minor": 0,
  "metadata": {
    "colab": {
      "name": "Untitled2.ipynb",
      "provenance": [],
      "toc_visible": true,
      "authorship_tag": "ABX9TyP5l7usbD/rBwHXmyDWICma",
      "include_colab_link": true
    },
    "kernelspec": {
      "name": "python3",
      "display_name": "Python 3"
    }
  },
  "cells": [
    {
      "cell_type": "markdown",
      "metadata": {
        "id": "view-in-github",
        "colab_type": "text"
      },
      "source": [
        "<a href=\"https://colab.research.google.com/github/19PA1A0496/python-basics/blob/master/Untitled2.ipynb\" target=\"_parent\"><img src=\"https://colab.research.google.com/assets/colab-badge.svg\" alt=\"Open In Colab\"/></a>"
      ]
    },
    {
      "cell_type": "code",
      "metadata": {
        "id": "563kKkcvdUr6",
        "colab_type": "code",
        "colab": {
          "base_uri": "https://localhost:8080/",
          "height": 204
        },
        "outputId": "b1231ac9-2308-4122-d49d-d635058e7b6d"
      },
      "source": [
        "import numpy as np\n",
        "import pandas as pd\n",
        "google=pd.read_csv('20150430_UKDebate.csv')\n",
        "google.head()\n",
        "\n"
      ],
      "execution_count": 5,
      "outputs": [
        {
          "output_type": "execute_result",
          "data": {
            "text/html": [
              "<div>\n",
              "<style scoped>\n",
              "    .dataframe tbody tr th:only-of-type {\n",
              "        vertical-align: middle;\n",
              "    }\n",
              "\n",
              "    .dataframe tbody tr th {\n",
              "        vertical-align: top;\n",
              "    }\n",
              "\n",
              "    .dataframe thead th {\n",
              "        text-align: right;\n",
              "    }\n",
              "</style>\n",
              "<table border=\"1\" class=\"dataframe\">\n",
              "  <thead>\n",
              "    <tr style=\"text-align: right;\">\n",
              "      <th></th>\n",
              "      <th>city</th>\n",
              "      <th>region</th>\n",
              "      <th>country</th>\n",
              "      <th>Date</th>\n",
              "      <th>Time in GMT</th>\n",
              "      <th>DavidCameron</th>\n",
              "      <th>EdMiliband</th>\n",
              "      <th>NickClegg</th>\n",
              "    </tr>\n",
              "  </thead>\n",
              "  <tbody>\n",
              "    <tr>\n",
              "      <th>0</th>\n",
              "      <td>Cliffe Woods</td>\n",
              "      <td>England</td>\n",
              "      <td>United Kingdom</td>\n",
              "      <td>Apr 30 2015</td>\n",
              "      <td>19:32</td>\n",
              "      <td>100.0</td>\n",
              "      <td>100.0</td>\n",
              "      <td>0.0</td>\n",
              "    </tr>\n",
              "    <tr>\n",
              "      <th>1</th>\n",
              "      <td>Gorefield</td>\n",
              "      <td>England</td>\n",
              "      <td>United Kingdom</td>\n",
              "      <td>Apr 30 2015</td>\n",
              "      <td>20:08</td>\n",
              "      <td>0.0</td>\n",
              "      <td>100.0</td>\n",
              "      <td>0.0</td>\n",
              "    </tr>\n",
              "    <tr>\n",
              "      <th>2</th>\n",
              "      <td>Carlton</td>\n",
              "      <td>England</td>\n",
              "      <td>United Kingdom</td>\n",
              "      <td>Apr 30 2015</td>\n",
              "      <td>21:02</td>\n",
              "      <td>0.0</td>\n",
              "      <td>100.0</td>\n",
              "      <td>0.0</td>\n",
              "    </tr>\n",
              "    <tr>\n",
              "      <th>3</th>\n",
              "      <td>Amble</td>\n",
              "      <td>England</td>\n",
              "      <td>United Kingdom</td>\n",
              "      <td>Apr 30 2015</td>\n",
              "      <td>21:48</td>\n",
              "      <td>0.0</td>\n",
              "      <td>100.0</td>\n",
              "      <td>0.0</td>\n",
              "    </tr>\n",
              "    <tr>\n",
              "      <th>4</th>\n",
              "      <td>Caddington</td>\n",
              "      <td>England</td>\n",
              "      <td>United Kingdom</td>\n",
              "      <td>Apr 30 2015</td>\n",
              "      <td>20:31</td>\n",
              "      <td>0.0</td>\n",
              "      <td>25.0</td>\n",
              "      <td>0.0</td>\n",
              "    </tr>\n",
              "  </tbody>\n",
              "</table>\n",
              "</div>"
            ],
            "text/plain": [
              "            city    region         country  ... DavidCameron EdMiliband  NickClegg\n",
              "0  Cliffe Woods   England   United Kingdom  ...        100.0      100.0        0.0\n",
              "1     Gorefield   England   United Kingdom  ...          0.0      100.0        0.0\n",
              "2       Carlton   England   United Kingdom  ...          0.0      100.0        0.0\n",
              "3         Amble   England   United Kingdom  ...          0.0      100.0        0.0\n",
              "4    Caddington   England   United Kingdom  ...          0.0       25.0        0.0\n",
              "\n",
              "[5 rows x 8 columns]"
            ]
          },
          "metadata": {
            "tags": []
          },
          "execution_count": 5
        }
      ]
    },
    {
      "cell_type": "code",
      "metadata": {
        "id": "xtrcHgCDgRkL",
        "colab_type": "code",
        "colab": {
          "base_uri": "https://localhost:8080/",
          "height": 297
        },
        "outputId": "107b79e3-1494-4b14-9cf3-2f07cd49f667"
      },
      "source": [
        "google.describe()"
      ],
      "execution_count": 10,
      "outputs": [
        {
          "output_type": "execute_result",
          "data": {
            "text/html": [
              "<div>\n",
              "<style scoped>\n",
              "    .dataframe tbody tr th:only-of-type {\n",
              "        vertical-align: middle;\n",
              "    }\n",
              "\n",
              "    .dataframe tbody tr th {\n",
              "        vertical-align: top;\n",
              "    }\n",
              "\n",
              "    .dataframe thead th {\n",
              "        text-align: right;\n",
              "    }\n",
              "</style>\n",
              "<table border=\"1\" class=\"dataframe\">\n",
              "  <thead>\n",
              "    <tr style=\"text-align: right;\">\n",
              "      <th></th>\n",
              "      <th>DavidCameron</th>\n",
              "      <th>EdMiliband</th>\n",
              "      <th>NickClegg</th>\n",
              "    </tr>\n",
              "  </thead>\n",
              "  <tbody>\n",
              "    <tr>\n",
              "      <th>count</th>\n",
              "      <td>14578.000000</td>\n",
              "      <td>14578.000000</td>\n",
              "      <td>14578.000000</td>\n",
              "    </tr>\n",
              "    <tr>\n",
              "      <th>mean</th>\n",
              "      <td>0.514570</td>\n",
              "      <td>4.761301</td>\n",
              "      <td>0.346776</td>\n",
              "    </tr>\n",
              "    <tr>\n",
              "      <th>std</th>\n",
              "      <td>4.119214</td>\n",
              "      <td>11.850766</td>\n",
              "      <td>3.486562</td>\n",
              "    </tr>\n",
              "    <tr>\n",
              "      <th>min</th>\n",
              "      <td>0.000000</td>\n",
              "      <td>0.009643</td>\n",
              "      <td>0.000000</td>\n",
              "    </tr>\n",
              "    <tr>\n",
              "      <th>25%</th>\n",
              "      <td>0.000000</td>\n",
              "      <td>0.581395</td>\n",
              "      <td>0.000000</td>\n",
              "    </tr>\n",
              "    <tr>\n",
              "      <th>50%</th>\n",
              "      <td>0.000000</td>\n",
              "      <td>1.428571</td>\n",
              "      <td>0.000000</td>\n",
              "    </tr>\n",
              "    <tr>\n",
              "      <th>75%</th>\n",
              "      <td>0.000000</td>\n",
              "      <td>3.846154</td>\n",
              "      <td>0.000000</td>\n",
              "    </tr>\n",
              "    <tr>\n",
              "      <th>max</th>\n",
              "      <td>100.000000</td>\n",
              "      <td>100.000000</td>\n",
              "      <td>100.000000</td>\n",
              "    </tr>\n",
              "  </tbody>\n",
              "</table>\n",
              "</div>"
            ],
            "text/plain": [
              "       DavidCameron    EdMiliband     NickClegg\n",
              "count  14578.000000  14578.000000  14578.000000\n",
              "mean       0.514570      4.761301      0.346776\n",
              "std        4.119214     11.850766      3.486562\n",
              "min        0.000000      0.009643      0.000000\n",
              "25%        0.000000      0.581395      0.000000\n",
              "50%        0.000000      1.428571      0.000000\n",
              "75%        0.000000      3.846154      0.000000\n",
              "max      100.000000    100.000000    100.000000"
            ]
          },
          "metadata": {
            "tags": []
          },
          "execution_count": 10
        }
      ]
    },
    {
      "cell_type": "code",
      "metadata": {
        "id": "2LrPhQSwhPLD",
        "colab_type": "code",
        "colab": {
          "base_uri": "https://localhost:8080/",
          "height": 85
        },
        "outputId": "c4be2557-567b-4f91-c5b7-071ee474825f"
      },
      "source": [
        "google.std()"
      ],
      "execution_count": 11,
      "outputs": [
        {
          "output_type": "execute_result",
          "data": {
            "text/plain": [
              "DavidCameron     4.119214\n",
              "EdMiliband      11.850766\n",
              "NickClegg        3.486562\n",
              "dtype: float64"
            ]
          },
          "metadata": {
            "tags": []
          },
          "execution_count": 11
        }
      ]
    },
    {
      "cell_type": "code",
      "metadata": {
        "id": "LRw3Cluphd5o",
        "colab_type": "code",
        "colab": {
          "base_uri": "https://localhost:8080/",
          "height": 85
        },
        "outputId": "20de7c67-d5e8-4c1e-cb01-d7cc0442eeeb"
      },
      "source": [
        "google.median()"
      ],
      "execution_count": 12,
      "outputs": [
        {
          "output_type": "execute_result",
          "data": {
            "text/plain": [
              "DavidCameron    0.000000\n",
              "EdMiliband      1.428571\n",
              "NickClegg       0.000000\n",
              "dtype: float64"
            ]
          },
          "metadata": {
            "tags": []
          },
          "execution_count": 12
        }
      ]
    },
    {
      "cell_type": "code",
      "metadata": {
        "id": "0moNJhDNiBoX",
        "colab_type": "code",
        "colab": {
          "base_uri": "https://localhost:8080/",
          "height": 34
        },
        "outputId": "fd2e0911-cc79-4c17-d5fe-3d2e72420846"
      },
      "source": [
        "google['Date'].min(),google['Date'].max()"
      ],
      "execution_count": 15,
      "outputs": [
        {
          "output_type": "execute_result",
          "data": {
            "text/plain": [
              "('Apr 30 2015', 'Apr 30 2015')"
            ]
          },
          "metadata": {
            "tags": []
          },
          "execution_count": 15
        }
      ]
    },
    {
      "cell_type": "code",
      "metadata": {
        "id": "HiiTbZfGlL51",
        "colab_type": "code",
        "colab": {
          "base_uri": "https://localhost:8080/",
          "height": 221
        },
        "outputId": "3e9db4ec-b353-4e28-eed2-8afb8613ec36"
      },
      "source": [
        "google['city'].value_counts()"
      ],
      "execution_count": 18,
      "outputs": [
        {
          "output_type": "execute_result",
          "data": {
            "text/plain": [
              "London          272\n",
              "Edinburgh       223\n",
              "Bristol         217\n",
              "Manchester      217\n",
              "Leeds           216\n",
              "               ... \n",
              "Chickerell        1\n",
              "Baslow            1\n",
              "Mile End          1\n",
              "Wells             1\n",
              "South Brent       1\n",
              "Name: city, Length: 1105, dtype: int64"
            ]
          },
          "metadata": {
            "tags": []
          },
          "execution_count": 18
        }
      ]
    },
    {
      "cell_type": "code",
      "metadata": {
        "id": "foigteIem4Yq",
        "colab_type": "code",
        "colab": {
          "base_uri": "https://localhost:8080/",
          "height": 358
        },
        "outputId": "1998acaf-edd9-4e53-b258-da461777e7cb"
      },
      "source": [
        "alpha_color=0.5\n",
        "google['region'].value_counts().plot(kind='bar')"
      ],
      "execution_count": 19,
      "outputs": [
        {
          "output_type": "execute_result",
          "data": {
            "text/plain": [
              "<matplotlib.axes._subplots.AxesSubplot at 0x7efde6b3add8>"
            ]
          },
          "metadata": {
            "tags": []
          },
          "execution_count": 19
        },
        {
          "output_type": "display_data",
          "data": {
            "image/png": "[encoded data removed]",
            "text/plain": [
              "<Figure size 432x288 with 1 Axes>"
            ]
          },
          "metadata": {
            "tags": []
          }
        }
      ]
    },
    {
      "cell_type": "code",
      "metadata": {
        "id": "bBmCik9ynbN2",
        "colab_type": "code",
        "colab": {
          "base_uri": "https://localhost:8080/",
          "height": 408
        },
        "outputId": "b4b0a2d1-0a07-46c3-f0a9-9ee72bce9be1"
      },
      "source": [
        "google['city'].value_counts().plot(kind='bar',color=['b','r'],alpha=alpha_color)"
      ],
      "execution_count": 21,
      "outputs": [
        {
          "output_type": "execute_result",
          "data": {
            "text/plain": [
              "<matplotlib.axes._subplots.AxesSubplot at 0x7efde5103f28>"
            ]
          },
          "metadata": {
            "tags": []
          },
          "execution_count": 21
        },
        {
          "output_type": "display_data",
          "data": {
            "image/png": "[encoded data removed]",
            "text/plain": [
              "<Figure size 432x288 with 1 Axes>"
            ]
          },
          "metadata": {
            "tags": []
          }
        }
      ]
    },
    {
      "cell_type": "code",
      "metadata": {
        "id": "dA019I6UoTYA",
        "colab_type": "code",
        "colab": {
          "base_uri": "https://localhost:8080/",
          "height": 221
        },
        "outputId": "24b6af6a-d557-4fa7-ca28-b1124d5f3064"
      },
      "source": [
        "google['Date'].cumsum()"
      ],
      "execution_count": 22,
      "outputs": [
        {
          "output_type": "execute_result",
          "data": {
            "text/plain": [
              "0                                              Apr 30 2015\n",
              "1                                   Apr 30 2015Apr 30 2015\n",
              "2                        Apr 30 2015Apr 30 2015Apr 30 2015\n",
              "3             Apr 30 2015Apr 30 2015Apr 30 2015Apr 30 2015\n",
              "4        Apr 30 2015Apr 30 2015Apr 30 2015Apr 30 2015Ap...\n",
              "                               ...                        \n",
              "14573    Apr 30 2015Apr 30 2015Apr 30 2015Apr 30 2015Ap...\n",
              "14574    Apr 30 2015Apr 30 2015Apr 30 2015Apr 30 2015Ap...\n",
              "14575    Apr 30 2015Apr 30 2015Apr 30 2015Apr 30 2015Ap...\n",
              "14576    Apr 30 2015Apr 30 2015Apr 30 2015Apr 30 2015Ap...\n",
              "14577    Apr 30 2015Apr 30 2015Apr 30 2015Apr 30 2015Ap...\n",
              "Name: Date, Length: 14578, dtype: object"
            ]
          },
          "metadata": {
            "tags": []
          },
          "execution_count": 22
        }
      ]
    },
    {
      "cell_type": "code",
      "metadata": {
        "id": "Xz8jjlFSooOe",
        "colab_type": "code",
        "colab": {
          "base_uri": "https://localhost:8080/",
          "height": 170
        },
        "outputId": "02dd7aa5-de66-4682-dfff-0c968464d416"
      },
      "source": [
        "google.count()"
      ],
      "execution_count": 32,
      "outputs": [
        {
          "output_type": "execute_result",
          "data": {
            "text/plain": [
              "city            14578\n",
              "region          14578\n",
              "country         14578\n",
              "Date            14578\n",
              "Time in GMT     14578\n",
              "DavidCameron    14578\n",
              "EdMiliband      14578\n",
              "NickClegg       14578\n",
              "dtype: int64"
            ]
          },
          "metadata": {
            "tags": []
          },
          "execution_count": 32
        }
      ]
    },
    {
      "cell_type": "code",
      "metadata": {
        "id": "QLaJL3Azq1M8",
        "colab_type": "code",
        "colab": {
          "base_uri": "https://localhost:8080/",
          "height": 170
        },
        "outputId": "f426fa8a-a978-46ec-bebb-d73a7ce23968"
      },
      "source": [
        "google.sum()"
      ],
      "execution_count": 33,
      "outputs": [
        {
          "output_type": "execute_result",
          "data": {
            "text/plain": [
              "city            Cliffe Woods Gorefield Carlton Amble Caddingto...\n",
              "region          England England England England England Englan...\n",
              "country         United KingdomUnited KingdomUnited KingdomUnit...\n",
              "Date            Apr 30 2015Apr 30 2015Apr 30 2015Apr 30 2015Ap...\n",
              "Time in GMT      19:32 20:08 21:02 21:48 20:31 19:00 21:35 20:...\n",
              "DavidCameron                                               7501.4\n",
              "EdMiliband                                                69410.3\n",
              "NickClegg                                                  5055.3\n",
              "dtype: object"
            ]
          },
          "metadata": {
            "tags": []
          },
          "execution_count": 33
        }
      ]
    },
    {
      "cell_type": "code",
      "metadata": {
        "id": "JCdoK5TXp0VN",
        "colab_type": "code",
        "colab": {
          "base_uri": "https://localhost:8080/",
          "height": 221
        },
        "outputId": "fb1fe59d-185b-4854-b4b3-6a1aafaad218"
      },
      "source": [
        "google['NickClegg'].cumprod()"
      ],
      "execution_count": 34,
      "outputs": [
        {
          "output_type": "execute_result",
          "data": {
            "text/plain": [
              "0        0.0\n",
              "1        0.0\n",
              "2        0.0\n",
              "3        0.0\n",
              "4        0.0\n",
              "        ... \n",
              "14573    0.0\n",
              "14574    0.0\n",
              "14575    0.0\n",
              "14576    0.0\n",
              "14577    0.0\n",
              "Name: NickClegg, Length: 14578, dtype: float64"
            ]
          },
          "metadata": {
            "tags": []
          },
          "execution_count": 34
        }
      ]
    },
    {
      "cell_type": "code",
      "metadata": {
        "id": "3yeFSL5fsS-C",
        "colab_type": "code",
        "colab": {
          "base_uri": "https://localhost:8080/",
          "height": 255
        },
        "outputId": "bb96ed90-3909-4775-8145-c6d3cc6619cc"
      },
      "source": [
        "google.sort_values"
      ],
      "execution_count": 39,
      "outputs": [
        {
          "output_type": "execute_result",
          "data": {
            "text/plain": [
              "<bound method DataFrame.sort_values of                 city    region  ...  EdMiliband NickClegg\n",
              "0      Cliffe Woods   England   ...  100.000000       0.0\n",
              "1         Gorefield   England   ...  100.000000       0.0\n",
              "2           Carlton   England   ...  100.000000       0.0\n",
              "3             Amble   England   ...  100.000000       0.0\n",
              "4        Caddington   England   ...   25.000000       0.0\n",
              "...              ...       ...  ...         ...       ...\n",
              "14573      Richmond   England   ...    8.333333       0.0\n",
              "14574      Richmond   England   ...   10.000000       0.0\n",
              "14575      Richmond   England   ...   14.285714       0.0\n",
              "14576      Richmond   England   ...    8.333333       0.0\n",
              "14577      Richmond   England   ...    7.692308       0.0\n",
              "\n",
              "[14578 rows x 8 columns]>"
            ]
          },
          "metadata": {
            "tags": []
          },
          "execution_count": 39
        }
      ]
    },
    {
      "cell_type": "code",
      "metadata": {
        "id": "c-4I7scWsgRj",
        "colab_type": "code",
        "colab": {}
      },
      "source": [
        ""
      ],
      "execution_count": 0,
      "outputs": []
    }
  ]
}